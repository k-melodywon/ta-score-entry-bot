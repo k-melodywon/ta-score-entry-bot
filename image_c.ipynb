{
 "cells": [
  {
   "cell_type": "code",
   "execution_count": 1,
   "metadata": {},
   "outputs": [
    {
     "name": "stdout",
     "output_type": "stream",
     "text": [
      "Requirement already satisfied: selenium in c:\\users\\dudnj\\appdata\\local\\programs\\python\\python310\\lib\\site-packages (4.12.0)\n",
      "Requirement already satisfied: urllib3[socks]<3,>=1.26 in c:\\users\\dudnj\\appdata\\local\\programs\\python\\python310\\lib\\site-packages (from selenium) (2.0.3)\n",
      "Requirement already satisfied: trio~=0.17 in c:\\users\\dudnj\\appdata\\local\\programs\\python\\python310\\lib\\site-packages (from selenium) (0.22.2)\n",
      "Requirement already satisfied: trio-websocket~=0.9 in c:\\users\\dudnj\\appdata\\local\\programs\\python\\python310\\lib\\site-packages (from selenium) (0.10.4)\n",
      "Requirement already satisfied: certifi>=2021.10.8 in c:\\users\\dudnj\\appdata\\local\\programs\\python\\python310\\lib\\site-packages (from selenium) (2023.5.7)\n",
      "Requirement already satisfied: attrs>=20.1.0 in c:\\users\\dudnj\\appdata\\local\\programs\\python\\python310\\lib\\site-packages (from trio~=0.17->selenium) (23.1.0)\n",
      "Requirement already satisfied: sortedcontainers in c:\\users\\dudnj\\appdata\\local\\programs\\python\\python310\\lib\\site-packages (from trio~=0.17->selenium) (2.4.0)\n",
      "Note: you may need to restart the kernel to use updated packages.Requirement already satisfied: idna in c:\\users\\dudnj\\appdata\\local\\programs\\python\\python310\\lib\\site-packages (from trio~=0.17->selenium) (3.4)\n",
      "Requirement already satisfied: outcome in c:\\users\\dudnj\\appdata\\local\\programs\\python\\python310\\lib\\site-packages (from trio~=0.17->selenium) (1.2.0)\n",
      "Requirement already satisfied: sniffio in c:\\users\\dudnj\\appdata\\local\\programs\\python\\python310\\lib\\site-packages (from trio~=0.17->selenium) (1.3.0)\n",
      "Requirement already satisfied: cffi>=1.14 in c:\\users\\dudnj\\appdata\\local\\programs\\python\\python310\\lib\\site-packages (from trio~=0.17->selenium) (1.15.1)\n",
      "Requirement already satisfied: exceptiongroup>=1.0.0rc9 in c:\\users\\dudnj\\appdata\\local\\programs\\python\\python310\\lib\\site-packages (from trio~=0.17->selenium) (1.1.3)\n",
      "Requirement already satisfied: wsproto>=0.14 in c:\\users\\dudnj\\appdata\\local\\programs\\python\\python310\\lib\\site-packages (from trio-websocket~=0.9->selenium) (1.2.0)\n"
     ]
    },
    {
     "name": "stderr",
     "output_type": "stream",
     "text": [
      "\n",
      "[notice] A new release of pip is available: 23.2.1 -> 23.3.1\n",
      "[notice] To update, run: python.exe -m pip install --upgrade pip\n"
     ]
    },
    {
     "name": "stdout",
     "output_type": "stream",
     "text": [
      "\n",
      "Requirement already satisfied: pysocks!=1.5.7,<2.0,>=1.5.6 in c:\\users\\dudnj\\appdata\\local\\programs\\python\\python310\\lib\\site-packages (from urllib3[socks]<3,>=1.26->selenium) (1.7.1)\n",
      "Requirement already satisfied: pycparser in c:\\users\\dudnj\\appdata\\local\\programs\\python\\python310\\lib\\site-packages (from cffi>=1.14->trio~=0.17->selenium) (2.21)\n",
      "Requirement already satisfied: h11<1,>=0.9.0 in c:\\users\\dudnj\\appdata\\local\\programs\\python\\python310\\lib\\site-packages (from wsproto>=0.14->trio-websocket~=0.9->selenium) (0.14.0)\n"
     ]
    }
   ],
   "source": [
    "pip install selenium"
   ]
  },
  {
   "cell_type": "code",
   "execution_count": 1,
   "metadata": {},
   "outputs": [],
   "source": [
    "from selenium import webdriver\n",
    "from selenium.webdriver.common.by import By\n",
    "from selenium.webdriver.chrome.service import Service\n",
    "from webdriver_manager.chrome import ChromeDriverManager\n",
    "\n",
    "URL = 'https://cyber.gachon.ac.kr/'\n",
    "driver = webdriver.Chrome(service=Service(ChromeDriverManager().install()))\n",
    "\n",
    "driver.get(URL)"
   ]
  },
  {
   "cell_type": "code",
   "execution_count": null,
   "metadata": {},
   "outputs": [],
   "source": [
    "from selenium.webdriver.common.by import By\n",
    "path = '/html/body/div[2]/div/div/div/div/div[1]/div[2]/div[1]/form/div[1]/input'\n",
    "driver.find_element(By.XPATH,path).send_keys(\"아이디\")\n",
    "\n",
    "\n",
    "path = '/html/body/div[2]/div[1]/div/div/div/div[1]/div[2]/div[1]/form/div[2]/input'\n",
    "driver.find_element(By.XPATH,path).send_keys(\"비밀번호\")\n",
    "\n",
    "\n",
    "path = '/html/body/div[2]/div[1]/div/div/div/div[1]/div[2]/div[1]/form/div[3]/button'\n",
    "driver.find_element(By.XPATH,path).click()\n"
   ]
  },
  {
   "cell_type": "code",
   "execution_count": 3,
   "metadata": {},
   "outputs": [],
   "source": [
    "path = '/html/body/div[2]/div[3]/div/div[2]/div/div/div/div[1]/div[2]/ul/li[3]/div/a'\n",
    "driver.find_element(By.XPATH,path).click()"
   ]
  },
  {
   "cell_type": "code",
   "execution_count": 4,
   "metadata": {},
   "outputs": [],
   "source": [
    "path = '/html/body/div[2]/div[3]/div/div[3]/div/div/div[2]/div/div[3]/div/ul/li[3]/div[3]/ul/li[3]/div/div/div[2]/div/a/span'\n",
    "driver.find_element(By.XPATH,path).click()"
   ]
  },
  {
   "cell_type": "code",
   "execution_count": 5,
   "metadata": {},
   "outputs": [],
   "source": [
    "path = '/html/body/div[2]/div[3]/div/div[2]/div/div[3]/div[2]/div[2]/a'\n",
    "driver.find_element(By.XPATH,path).click()"
   ]
  },
  {
   "cell_type": "code",
   "execution_count": 6,
   "metadata": {},
   "outputs": [],
   "source": [
    "path = '/html/body/div[2]/div[3]/div/div[2]/div/div[3]/div[2]/div[4]/form/div/div[1]/table/thead/tr/th[3]/a'\n",
    "driver.find_element(By.XPATH,path).click()"
   ]
  },
  {
   "cell_type": "markdown",
   "metadata": {},
   "source": []
  },
  {
   "cell_type": "code",
   "execution_count": null,
   "metadata": {},
   "outputs": [
    {
     "name": "stdout",
     "output_type": "stream",
     "text": [
      "/html/body/div[2]/div[3]/div/div[2]/div/div[3]/div[2]/div[4]/form/div/div[1]/table/tbody/tr[718]/td[9]/a\n",
      "/html/body/div[2]/div[3]/div/div[2]/div/div[3]/div[2]/div[4]/form/div/div[1]/table/tbody/tr[719]/td[9]/a\n",
      "/html/body/div[2]/div[3]/div/div[2]/div/div[3]/div[2]/div[4]/form/div/div[1]/table/tbody/tr[720]/td[9]/a\n",
      "/html/body/div[2]/div[3]/div/div[2]/div/div[3]/div[2]/div[4]/form/div/div[1]/table/tbody/tr[721]/td[9]/a\n",
      "/html/body/div[2]/div[3]/div/div[2]/div/div[3]/div[2]/div[4]/form/div/div[1]/table/tbody/tr[722]/td[9]/a\n",
      "/html/body/div[2]/div[3]/div/div[2]/div/div[3]/div[2]/div[4]/form/div/div[1]/table/tbody/tr[723]/td[9]/a\n",
      "/html/body/div[2]/div[3]/div/div[2]/div/div[3]/div[2]/div[4]/form/div/div[1]/table/tbody/tr[724]/td[9]/a\n",
      "/html/body/div[2]/div[3]/div/div[2]/div/div[3]/div[2]/div[4]/form/div/div[1]/table/tbody/tr[725]/td[9]/a\n",
      "/html/body/div[2]/div[3]/div/div[2]/div/div[3]/div[2]/div[4]/form/div/div[1]/table/tbody/tr[726]/td[9]/a\n",
      "/html/body/div[2]/div[3]/div/div[2]/div/div[3]/div[2]/div[4]/form/div/div[1]/table/tbody/tr[727]/td[9]/a\n",
      "/html/body/div[2]/div[3]/div/div[2]/div/div[3]/div[2]/div[4]/form/div/div[1]/table/tbody/tr[728]/td[9]/a\n",
      "/html/body/div[2]/div[3]/div/div[2]/div/div[3]/div[2]/div[4]/form/div/div[1]/table/tbody/tr[729]/td[9]/a\n",
      "/html/body/div[2]/div[3]/div/div[2]/div/div[3]/div[2]/div[4]/form/div/div[1]/table/tbody/tr[730]/td[9]/a\n",
      "/html/body/div[2]/div[3]/div/div[2]/div/div[3]/div[2]/div[4]/form/div/div[1]/table/tbody/tr[731]/td[9]/a\n",
      "/html/body/div[2]/div[3]/div/div[2]/div/div[3]/div[2]/div[4]/form/div/div[1]/table/tbody/tr[732]/td[9]/a\n",
      "/html/body/div[2]/div[3]/div/div[2]/div/div[3]/div[2]/div[4]/form/div/div[1]/table/tbody/tr[733]/td[9]/a\n",
      "/html/body/div[2]/div[3]/div/div[2]/div/div[3]/div[2]/div[4]/form/div/div[1]/table/tbody/tr[734]/td[9]/a\n",
      "/html/body/div[2]/div[3]/div/div[2]/div/div[3]/div[2]/div[4]/form/div/div[1]/table/tbody/tr[735]/td[9]/a\n",
      "/html/body/div[2]/div[3]/div/div[2]/div/div[3]/div[2]/div[4]/form/div/div[1]/table/tbody/tr[736]/td[9]/a\n",
      "/html/body/div[2]/div[3]/div/div[2]/div/div[3]/div[2]/div[4]/form/div/div[1]/table/tbody/tr[737]/td[9]/a\n",
      "/html/body/div[2]/div[3]/div/div[2]/div/div[3]/div[2]/div[4]/form/div/div[1]/table/tbody/tr[738]/td[9]/a\n",
      "/html/body/div[2]/div[3]/div/div[2]/div/div[3]/div[2]/div[4]/form/div/div[1]/table/tbody/tr[739]/td[9]/a\n",
      "/html/body/div[2]/div[3]/div/div[2]/div/div[3]/div[2]/div[4]/form/div/div[1]/table/tbody/tr[740]/td[9]/a\n",
      "/html/body/div[2]/div[3]/div/div[2]/div/div[3]/div[2]/div[4]/form/div/div[1]/table/tbody/tr[741]/td[9]/a\n",
      "/html/body/div[2]/div[3]/div/div[2]/div/div[3]/div[2]/div[4]/form/div/div[1]/table/tbody/tr[742]/td[9]/a\n",
      "/html/body/div[2]/div[3]/div/div[2]/div/div[3]/div[2]/div[4]/form/div/div[1]/table/tbody/tr[743]/td[9]/a\n"
     ]
    },
    {
     "ename": "NoSuchElementException",
     "evalue": "Message: no such element: Unable to locate element: {\"method\":\"xpath\",\"selector\":\"/html/body/div[2]/div[3]/div/div[2]/div/div[3]/div[2]/div[4]/form/div/div[1]/table/tbody/tr[743]/td[9]/a\"}\n  (Session info: chrome=119.0.6045.160); For documentation on this error, please visit: https://www.selenium.dev/documentation/webdriver/troubleshooting/errors#no-such-element-exception\nStacktrace:\n\tGetHandleVerifier [0x008272A3+45731]\n\t(No symbol) [0x007B2D51]\n\t(No symbol) [0x006A880D]\n\t(No symbol) [0x006DB940]\n\t(No symbol) [0x006DBE0B]\n\t(No symbol) [0x0070D1F2]\n\t(No symbol) [0x006F8024]\n\t(No symbol) [0x0070B7A2]\n\t(No symbol) [0x006F7DD6]\n\t(No symbol) [0x006D31F6]\n\t(No symbol) [0x006D439D]\n\tGetHandleVerifier [0x00B30716+3229462]\n\tGetHandleVerifier [0x00B784C8+3523784]\n\tGetHandleVerifier [0x00B7214C+3498316]\n\tGetHandleVerifier [0x008B1680+611968]\n\t(No symbol) [0x007BCCCC]\n\t(No symbol) [0x007B8DF8]\n\t(No symbol) [0x007B8F1D]\n\t(No symbol) [0x007AB2C7]\n\tBaseThreadInitThunk [0x7602FCC9+25]\n\tRtlGetAppContainerNamedObjectPath [0x77567C6E+286]\n\tRtlGetAppContainerNamedObjectPath [0x77567C3E+238]\n",
     "output_type": "error",
     "traceback": [
      "\u001b[1;31m---------------------------------------------------------------------------\u001b[0m",
      "\u001b[1;31mNoSuchElementException\u001b[0m                    Traceback (most recent call last)",
      "\u001b[1;32mc:\\Users\\dudnj\\OneDrive\\바탕 화면\\매크로\\image_c.ipynb 셀 9\u001b[0m line \u001b[0;36m<cell line: 8>\u001b[1;34m()\u001b[0m\n\u001b[0;32m     <a href='vscode-notebook-cell:/c%3A/Users/dudnj/OneDrive/%EB%B0%94%ED%83%95%20%ED%99%94%EB%A9%B4/%EB%A7%A4%ED%81%AC%EB%A1%9C/image_c.ipynb#X11sZmlsZQ%3D%3D?line=10'>11</a>\u001b[0m path2 \u001b[39m+\u001b[39m\u001b[39m=\u001b[39m \u001b[39m1\u001b[39m\n\u001b[0;32m     <a href='vscode-notebook-cell:/c%3A/Users/dudnj/OneDrive/%EB%B0%94%ED%83%95%20%ED%99%94%EB%A9%B4/%EB%A7%A4%ED%81%AC%EB%A1%9C/image_c.ipynb#X11sZmlsZQ%3D%3D?line=11'>12</a>\u001b[0m \u001b[39mprint\u001b[39m(path)\n\u001b[1;32m---> <a href='vscode-notebook-cell:/c%3A/Users/dudnj/OneDrive/%EB%B0%94%ED%83%95%20%ED%99%94%EB%A9%B4/%EB%A7%A4%ED%81%AC%EB%A1%9C/image_c.ipynb#X11sZmlsZQ%3D%3D?line=12'>13</a>\u001b[0m driver\u001b[39m.\u001b[39;49mfind_element(By\u001b[39m.\u001b[39;49mXPATH,path)\u001b[39m.\u001b[39mclick()\n\u001b[0;32m     <a href='vscode-notebook-cell:/c%3A/Users/dudnj/OneDrive/%EB%B0%94%ED%83%95%20%ED%99%94%EB%A9%B4/%EB%A7%A4%ED%81%AC%EB%A1%9C/image_c.ipynb#X11sZmlsZQ%3D%3D?line=13'>14</a>\u001b[0m time\u001b[39m.\u001b[39msleep(\u001b[39m5\u001b[39m)\n\u001b[0;32m     <a href='vscode-notebook-cell:/c%3A/Users/dudnj/OneDrive/%EB%B0%94%ED%83%95%20%ED%99%94%EB%A9%B4/%EB%A7%A4%ED%81%AC%EB%A1%9C/image_c.ipynb#X11sZmlsZQ%3D%3D?line=14'>15</a>\u001b[0m path \u001b[39m=\u001b[39m \u001b[39m'\u001b[39m\u001b[39m/html/body/div[2]/div[3]/div/div[2]/div/div[3]/div[2]/div[1]/div[2]/div[2]/div/a\u001b[39m\u001b[39m'\u001b[39m\n",
      "File \u001b[1;32mc:\\Users\\dudnj\\AppData\\Local\\Programs\\Python\\Python310\\lib\\site-packages\\selenium\\webdriver\\remote\\webdriver.py:738\u001b[0m, in \u001b[0;36mWebDriver.find_element\u001b[1;34m(self, by, value)\u001b[0m\n\u001b[0;32m    735\u001b[0m     by \u001b[39m=\u001b[39m By\u001b[39m.\u001b[39mCSS_SELECTOR\n\u001b[0;32m    736\u001b[0m     value \u001b[39m=\u001b[39m \u001b[39mf\u001b[39m\u001b[39m'\u001b[39m\u001b[39m[name=\u001b[39m\u001b[39m\"\u001b[39m\u001b[39m{\u001b[39;00mvalue\u001b[39m}\u001b[39;00m\u001b[39m\"\u001b[39m\u001b[39m]\u001b[39m\u001b[39m'\u001b[39m\n\u001b[1;32m--> 738\u001b[0m \u001b[39mreturn\u001b[39;00m \u001b[39mself\u001b[39;49m\u001b[39m.\u001b[39;49mexecute(Command\u001b[39m.\u001b[39;49mFIND_ELEMENT, {\u001b[39m\"\u001b[39;49m\u001b[39musing\u001b[39;49m\u001b[39m\"\u001b[39;49m: by, \u001b[39m\"\u001b[39;49m\u001b[39mvalue\u001b[39;49m\u001b[39m\"\u001b[39;49m: value})[\u001b[39m\"\u001b[39m\u001b[39mvalue\u001b[39m\u001b[39m\"\u001b[39m]\n",
      "File \u001b[1;32mc:\\Users\\dudnj\\AppData\\Local\\Programs\\Python\\Python310\\lib\\site-packages\\selenium\\webdriver\\remote\\webdriver.py:344\u001b[0m, in \u001b[0;36mWebDriver.execute\u001b[1;34m(self, driver_command, params)\u001b[0m\n\u001b[0;32m    342\u001b[0m response \u001b[39m=\u001b[39m \u001b[39mself\u001b[39m\u001b[39m.\u001b[39mcommand_executor\u001b[39m.\u001b[39mexecute(driver_command, params)\n\u001b[0;32m    343\u001b[0m \u001b[39mif\u001b[39;00m response:\n\u001b[1;32m--> 344\u001b[0m     \u001b[39mself\u001b[39;49m\u001b[39m.\u001b[39;49merror_handler\u001b[39m.\u001b[39;49mcheck_response(response)\n\u001b[0;32m    345\u001b[0m     response[\u001b[39m\"\u001b[39m\u001b[39mvalue\u001b[39m\u001b[39m\"\u001b[39m] \u001b[39m=\u001b[39m \u001b[39mself\u001b[39m\u001b[39m.\u001b[39m_unwrap_value(response\u001b[39m.\u001b[39mget(\u001b[39m\"\u001b[39m\u001b[39mvalue\u001b[39m\u001b[39m\"\u001b[39m, \u001b[39mNone\u001b[39;00m))\n\u001b[0;32m    346\u001b[0m     \u001b[39mreturn\u001b[39;00m response\n",
      "File \u001b[1;32mc:\\Users\\dudnj\\AppData\\Local\\Programs\\Python\\Python310\\lib\\site-packages\\selenium\\webdriver\\remote\\errorhandler.py:229\u001b[0m, in \u001b[0;36mErrorHandler.check_response\u001b[1;34m(self, response)\u001b[0m\n\u001b[0;32m    227\u001b[0m         alert_text \u001b[39m=\u001b[39m value[\u001b[39m\"\u001b[39m\u001b[39malert\u001b[39m\u001b[39m\"\u001b[39m]\u001b[39m.\u001b[39mget(\u001b[39m\"\u001b[39m\u001b[39mtext\u001b[39m\u001b[39m\"\u001b[39m)\n\u001b[0;32m    228\u001b[0m     \u001b[39mraise\u001b[39;00m exception_class(message, screen, stacktrace, alert_text)  \u001b[39m# type: ignore[call-arg]  # mypy is not smart enough here\u001b[39;00m\n\u001b[1;32m--> 229\u001b[0m \u001b[39mraise\u001b[39;00m exception_class(message, screen, stacktrace)\n",
      "\u001b[1;31mNoSuchElementException\u001b[0m: Message: no such element: Unable to locate element: {\"method\":\"xpath\",\"selector\":\"/html/body/div[2]/div[3]/div/div[2]/div/div[3]/div[2]/div[4]/form/div/div[1]/table/tbody/tr[743]/td[9]/a\"}\n  (Session info: chrome=119.0.6045.160); For documentation on this error, please visit: https://www.selenium.dev/documentation/webdriver/troubleshooting/errors#no-such-element-exception\nStacktrace:\n\tGetHandleVerifier [0x008272A3+45731]\n\t(No symbol) [0x007B2D51]\n\t(No symbol) [0x006A880D]\n\t(No symbol) [0x006DB940]\n\t(No symbol) [0x006DBE0B]\n\t(No symbol) [0x0070D1F2]\n\t(No symbol) [0x006F8024]\n\t(No symbol) [0x0070B7A2]\n\t(No symbol) [0x006F7DD6]\n\t(No symbol) [0x006D31F6]\n\t(No symbol) [0x006D439D]\n\tGetHandleVerifier [0x00B30716+3229462]\n\tGetHandleVerifier [0x00B784C8+3523784]\n\tGetHandleVerifier [0x00B7214C+3498316]\n\tGetHandleVerifier [0x008B1680+611968]\n\t(No symbol) [0x007BCCCC]\n\t(No symbol) [0x007B8DF8]\n\t(No symbol) [0x007B8F1D]\n\t(No symbol) [0x007AB2C7]\n\tBaseThreadInitThunk [0x7602FCC9+25]\n\tRtlGetAppContainerNamedObjectPath [0x77567C6E+286]\n\tRtlGetAppContainerNamedObjectPath [0x77567C3E+238]\n"
     ]
    }
   ],
   "source": [
    "import time\n",
    "path1 = '/html/body/div[2]/div[3]/div/div[2]/div/div[3]/div[2]/div[4]/form/div/div[1]/table/tbody/tr['\n",
    "path3 = ']/td[9]/a'\n",
    "path2 = 718\n",
    "#59\n",
    "for i in range(1,77):\n",
    "\n",
    " path= path1 +str(path2)+ path3\n",
    " path2 += 1\n",
    " print(path)\n",
    " driver.find_element(By.XPATH,path).click()\n",
    " time.sleep(5)\n",
    " path = '/html/body/div[2]/div[3]/div/div[2]/div/div[3]/div[2]/div[1]/div[2]/div[2]/div/a'\n",
    " driver.find_element(By.XPATH,path).click()\n",
    " time.sleep(1)\n",
    " driver.switch_to.window( driver.window_handles[1] )\n",
    " path = '/html/body/div[2]/form/div[1]/div[2]/div[2]/fieldset/div/div[2]/div[2]/input[1]'\n",
    " driver.find_element(By.XPATH,path).send_keys(\"1.00\")\n",
    " path = '/html/body/div[2]/form/fieldset/div/div/fieldset/input[1]'\n",
    " driver.find_element(By.XPATH,path).click()\n",
    " time.sleep(1)\n",
    " driver.switch_to.window( driver.window_handles[0] )\n",
    " path = '/html/body/div[2]/div[3]/div/div[2]/div/div[3]/div[2]/div[2]/div[2]/div[2]/div/a'\n",
    " driver.find_element(By.XPATH,path).click()\n",
    " time.sleep(1)\n",
    " driver.switch_to.window( driver.window_handles[1] )\n",
    " path = '/html/body/div[2]/form/div[1]/div[2]/div[2]/fieldset/div/div[2]/div[2]/input[1]'\n",
    " driver.find_element(By.XPATH,path).send_keys(\"1.00\")\n",
    " path = '/html/body/div[2]/form/fieldset/div/div/fieldset/input[1]'\n",
    " driver.find_element(By.XPATH,path).click()\n",
    " time.sleep(1)\n",
    " driver.switch_to.window( driver.window_handles[0] )\n",
    " path = '/html/body/div[2]/div[3]/div/div[2]/div/div[3]/div[2]/div[3]/div[2]/div[2]/div/a'\n",
    " driver.find_element(By.XPATH,path).click()\n",
    " time.sleep(1)\n",
    " driver.switch_to.window( driver.window_handles[1] )\n",
    " path = '/html/body/div[2]/form/div[1]/div[2]/div[2]/fieldset/div/div[2]/div[2]/input[1]'\n",
    " driver.find_element(By.XPATH,path).send_keys(\"1.00\")\n",
    " path = '/html/body/div[2]/form/fieldset/div/div/fieldset/input[1]'\n",
    " driver.find_element(By.XPATH,path).click()\n",
    " driver.switch_to.window( driver.window_handles[0] )\n",
    " time.sleep(1)\n",
    " path = '/html/body/div[2]/div[3]/div/div[2]/div/div[3]/div[2]/div[4]/a'\n",
    " driver.find_element(By.XPATH,path).click()\n",
    " time.sleep(1)\n",
    " path = '/html/body/div[2]/div[3]/div/div[2]/div/div[3]/div[2]/div[2]/a'\n",
    " driver.find_element(By.XPATH,path).click()\n",
    " time.sleep(1)\n",
    "\n",
    "\n",
    "\n",
    " "
   ]
  },
  {
   "cell_type": "code",
   "execution_count": 3,
   "metadata": {},
   "outputs": [],
   "source": [
    "from selenium import webdriver\n",
    "from selenium.webdriver.common.by import By\n",
    "from selenium.webdriver.common.action_chains import ActionChains\n",
    "import time\n",
    "import os\n",
    "import pandas as pd"
   ]
  },
  {
   "cell_type": "code",
   "execution_count": 23,
   "metadata": {},
   "outputs": [],
   "source": [
    "driver.switch_to.window(driver.window_handles[-1]) "
   ]
  },
  {
   "cell_type": "code",
   "execution_count": 36,
   "metadata": {},
   "outputs": [],
   "source": [
    "\n",
    "def photo(df):\n",
    "    for i in range(0,len(df)):\n",
    "        ans = df[i:i+1]\n",
    "        num = int(ans['학번'])\n",
    "        time.sleep(1)\n",
    "        path = '/html/body/div[1]/div[1]/div/div[1]/div/div/div[6]/div/div[2]/div[2]/div/div/div[1]/div/div[3]/div/div/div[18]/div/div[1]/div/div/div/div/div[4]/a'\n",
    "        driver.find_element(By.XPATH,path).click()\n",
    "        time.sleep(1)\n",
    "        path = '/html/body/div[1]/div[2]/div/div[2]/div[1]/div[2]/div/div/div[1]/div/div[3]/div/div/div[9]/div/input'\n",
    "        driver.find_element(By.XPATH,path).send_keys(num)\n",
    "        time.sleep(1)\n",
    "        path = '/html/body/div[1]/div[2]/div/div[2]/div[1]/div[2]/div/div/div[1]/div/div[3]/div/div/div[1]/a/div'\n",
    "        driver.find_element(By.XPATH,path).click()\n",
    "        time.sleep(1)\n",
    "        path = '/html/body/div[1]/div[2]/div/div[2]/div[1]/div[2]/div/div/div[1]/div/div[2]/div/div/div[2]/div/div[3]/div/div[2]/div/div[1]/div/div/div/div[3]/div/div'\n",
    "        clickable=driver.find_element(By.XPATH,path)\n",
    "        ActionChains(driver)\\\n",
    "            .double_click(clickable)\\\n",
    "            .perform()\n",
    "        time.sleep(1.2)\n",
    "        path = '/html/body/div[1]/div[1]/div/div[1]/div/div/div[6]/div/div[2]/div[2]/div/div/div[1]/div/div[3]/div/div/div[1]/a/div'\n",
    "        driver.find_element(By.XPATH,path).click()\n",
    "        time.sleep(1.3)\n",
    "        path = '/html/body/div[1]/div[1]/div/div[1]/div/div/div[6]/div/div[2]/div[2]/div/div/div[1]/div/div[2]/div/div/div[3]/div/div[3]/div[1]/div[2]/div/div[1]/div/div/div/div[1]/div/div'\n",
    "        clickable=driver.find_element(By.XPATH,path)\n",
    "        time.sleep(1)\n",
    "        ActionChains(driver)\\\n",
    "            .double_click(clickable)\\\n",
    "            .perform()\n",
    "        time.sleep(1)\n",
    "        \n",
    "        path = '/html/body/div[1]/div[2]/div/div[2]/div[1]/div[2]/div/div/div[1]/div/div[2]/div/div/div[2]/div/div/div[67]/img'\n",
    "        src=driver.find_element(By.XPATH,path).get_attribute('src')\n",
    "        script = f\"window.open('{src}');\"\n",
    "        driver.execute_script(script)\n",
    "        start = src.find('Id')\n",
    "        end = src.find('&p')\n",
    "        target = src[start+3:end]\n",
    "        time.sleep(2)\n",
    "        no = list(ans['호실'])[0]\n",
    "        name = list(ans['성명'])[0]\n",
    "        os.rename(f'C:\\\\Users\\\\Gachon\\\\Downloads\\\\{target}.jpg', f'./img/{no},{name}.jpg')\n",
    "        path = '/html/body/div[1]/div[2]/div/div[2]/div[1]/div[1]/div[2]'\n",
    "        driver.find_element(By.XPATH,path).click()\n",
    "        time.sleep(1.1)\n",
    "        path = '/html/body/div[1]/div[1]/div/div[1]/div/div/div[6]/div/div[2]/div[2]/div/div/div[1]/div/div[3]/div/div/div[18]/div/div[1]/div/div/div/div/div[5]/div/input'\n",
    "        driver.find_element(By.XPATH,path).clear()"
   ]
  },
  {
   "cell_type": "code",
   "execution_count": 5,
   "metadata": {},
   "outputs": [],
   "source": [
    "df = pd.read_excel(r\"C:\\dorm\\벌점\\123.xlsx\")"
   ]
  },
  {
   "cell_type": "code",
   "execution_count": 6,
   "metadata": {},
   "outputs": [],
   "source": [
    "df_dropna = df.dropna(subset='성명')"
   ]
  },
  {
   "cell_type": "code",
   "execution_count": 7,
   "metadata": {},
   "outputs": [],
   "source": [
    "df_int = df_dropna.copy()\n",
    "df_int['학번'] = df_dropna['학번'].astype(\"int\")"
   ]
  },
  {
   "cell_type": "code",
   "execution_count": 40,
   "metadata": {},
   "outputs": [],
   "source": [
    "photo(df_int)"
   ]
  },
  {
   "cell_type": "code",
   "execution_count": null,
   "metadata": {},
   "outputs": [],
   "source": []
  }
 ],
 "metadata": {
  "kernelspec": {
   "display_name": "Python 3",
   "language": "python",
   "name": "python3"
  },
  "language_info": {
   "codemirror_mode": {
    "name": "ipython",
    "version": 3
   },
   "file_extension": ".py",
   "mimetype": "text/x-python",
   "name": "python",
   "nbconvert_exporter": "python",
   "pygments_lexer": "ipython3",
   "version": "3.10.2"
  },
  "orig_nbformat": 4,
  "vscode": {
   "interpreter": {
    "hash": "f4fedf867e5244d2d274dc7c02ed252e59d244c850283919f242bb4beb57f5be"
   }
  }
 },
 "nbformat": 4,
 "nbformat_minor": 2
}
